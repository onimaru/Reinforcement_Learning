{
 "cells": [
  {
   "cell_type": "code",
   "execution_count": 1,
   "metadata": {},
   "outputs": [],
   "source": [
    "import numpy as np\n",
    "import gym\n",
    "import os\n",
    "from time import time\n",
    "import time as tm\n",
    "import scipy.stats as sp\n",
    "import matplotlib.pyplot as plt"
   ]
  },
  {
   "cell_type": "code",
   "execution_count": 2,
   "metadata": {},
   "outputs": [],
   "source": [
    "env = gym.make('CartPole-v0')"
   ]
  },
  {
   "cell_type": "code",
   "execution_count": 6,
   "metadata": {},
   "outputs": [],
   "source": [
    "env.reset()\n",
    "state, reward,done, _ = env.step(0)"
   ]
  },
  {
   "cell_type": "code",
   "execution_count": 7,
   "metadata": {},
   "outputs": [],
   "source": [
    "theta = np.random.rand(4,2)"
   ]
  },
  {
   "cell_type": "markdown",
   "metadata": {},
   "source": [
    "#### Analysis functions"
   ]
  },
  {
   "cell_type": "code",
   "execution_count": 3,
   "metadata": {},
   "outputs": [],
   "source": [
    "def check_solve(R):\n",
    "    l = 100\n",
    "    for i in range(l,len(R)):\n",
    "        if np.mean(R[i-l:i])>=195:\n",
    "            print('Solved in {} steps.'.format(i-l))\n",
    "            break\n",
    "    print('Done!')"
   ]
  },
  {
   "cell_type": "code",
   "execution_count": 4,
   "metadata": {},
   "outputs": [],
   "source": [
    "def opt(n_episodes,alpha,gamma):\n",
    "    data = {'total_reward':[],'av_reward':[],'alpha':[],'gamma':[]}\n",
    "    for i in alpha:\n",
    "        for j in gamma:\n",
    "            R = cp_play(n_episodes,i,j)\n",
    "            data['av_reward']+=[np.mean(R)]\n",
    "            data['total_reward']+=[np.sum(R)]\n",
    "            data['alpha']+=[i]\n",
    "            data['gamma']+=[j]\n",
    "    return pd.DataFrame(data).sort_values(['total_reward'],ascending=False)"
   ]
  },
  {
   "cell_type": "code",
   "execution_count": 5,
   "metadata": {},
   "outputs": [],
   "source": [
    "def plot_rewards(R):\n",
    "    plt.figure(figsize=(20,6))\n",
    "    plt.subplot(1,2,1)\n",
    "    plt.plot(range(len(R)),R);\n",
    "    plt.title('Average reward: {:.2f}'.format(np.mean(R)))\n",
    "    plt.subplot(1,2,2)\n",
    "    plt.title('Total reward: {:.0f}'.format(np.sum(R)))\n",
    "    plt.plot(range(len(R)),np.cumsum(R));"
   ]
  },
  {
   "cell_type": "markdown",
   "metadata": {},
   "source": [
    "### REINFORCE"
   ]
  },
  {
   "cell_type": "code",
   "execution_count": 6,
   "metadata": {},
   "outputs": [],
   "source": [
    "def softmax(state,theta):\n",
    "    a = np.matmul(state,theta)\n",
    "    return np.exp(a)/np.sum(np.exp(a))\n",
    "\n",
    "def policy(softmax_probs):\n",
    "    distw = sp.rv_discrete(name='distw',values=([0,1], softmax_probs))\n",
    "    return distw.rvs()\n",
    "\n",
    "def grads(action,softmax_probs):\n",
    "    s = softmax_probs\n",
    "    if action == 0:\n",
    "        return np.array([1-s[0],-s[1]])[None,:]\n",
    "    else:\n",
    "        return np.array([-s[0],1-s[1]])[None,:]"
   ]
  },
  {
   "cell_type": "code",
   "execution_count": 7,
   "metadata": {},
   "outputs": [],
   "source": [
    "def get_episode(theta):\n",
    "    state = env.reset()\n",
    "    episode = []\n",
    "    while True:\n",
    "        env.render()\n",
    "        tm.sleep(0.01) # descomente para visualizar mais devagar\n",
    "        s = softmax(state,theta)\n",
    "        action = policy(s)\n",
    "        next_state, reward, done, _ = env.step(action)\n",
    "        episode.append((state,reward,action,s))\n",
    "        state = next_state\n",
    "        if reward >= 100: break\n",
    "        if done: break\n",
    "    return episode"
   ]
  },
  {
   "cell_type": "code",
   "execution_count": 12,
   "metadata": {},
   "outputs": [],
   "source": [
    "def env_play(n_episodes,alpha,y):\n",
    "    R = []\n",
    "    episode_length = []\n",
    "    theta = np.random.rand(env.observation_space.shape[0],env.action_space.n)\n",
    "    for i in range(n_episodes):\n",
    "        episode = get_episode(theta)\n",
    "        states = [item[0] for item in episode]\n",
    "        rewards = [item[1] for item in episode]\n",
    "        actions = [item[2] for item in episode]\n",
    "        softs = [item[3] for item in episode]\n",
    "        R.append(sum(rewards))\n",
    "        episode_length.append(len(episode))\n",
    "        grad = [grads(i,s) for i,s in zip(actions,softs)]\n",
    "        \n",
    "        for t in range(len(grad)):\n",
    "            theta += alpha*np.array(np.dot(states[t][None,:].T,grad[t])*sum([r*(y**j) for j,r in enumerate(rewards[t:])]))\n",
    "        print('Step back, I am doing some math...')\n",
    "        print(\"Episode: {} | Last reward: {:.2f} |  Mean reward: {:.1f}| Episode length: {}\".format(i,R[-1],np.mean(R[-100:]),len(episode)))\n",
    "        print(\"=\"*80)\n",
    "        if np.mean(R[-100:]) > 195:\n",
    "            print(\"Solved!!!!!!!!!!!!!!!!!!!!!!!!\")\n",
    "            print(\"Episode: {} | Mean reward: {:.1f}+-{:.1f}\".format(i,np.mean(R[-100:]),np.std(R[-100:])))\n",
    "            break\n",
    "    return R"
   ]
  },
  {
   "cell_type": "code",
   "execution_count": 13,
   "metadata": {},
   "outputs": [
    {
     "name": "stdout",
     "output_type": "stream",
     "text": [
      "Step back, I am doing some math...\n",
      "Episode: 0 | Last reward: 14.00 |  Mean reward: 14.0| Episode length: 14\n",
      "================================================================================\n",
      "Step back, I am doing some math...\n",
      "Episode: 1 | Last reward: 21.00 |  Mean reward: 17.5| Episode length: 21\n",
      "================================================================================\n",
      "Step back, I am doing some math...\n",
      "Episode: 2 | Last reward: 32.00 |  Mean reward: 22.3| Episode length: 32\n",
      "================================================================================\n",
      "Step back, I am doing some math...\n",
      "Episode: 3 | Last reward: 18.00 |  Mean reward: 21.2| Episode length: 18\n",
      "================================================================================\n",
      "Step back, I am doing some math...\n",
      "Episode: 4 | Last reward: 18.00 |  Mean reward: 20.6| Episode length: 18\n",
      "================================================================================\n"
     ]
    },
    {
     "data": {
      "text/plain": [
       "[14.0, 21.0, 32.0, 18.0, 18.0]"
      ]
     },
     "execution_count": 13,
     "metadata": {},
     "output_type": "execute_result"
    }
   ],
   "source": [
    "env_play(5,0.005,0.99)"
   ]
  },
  {
   "cell_type": "code",
   "execution_count": 14,
   "metadata": {},
   "outputs": [],
   "source": [
    "env.close()"
   ]
  },
  {
   "cell_type": "code",
   "execution_count": 372,
   "metadata": {},
   "outputs": [
    {
     "name": "stdout",
     "output_type": "stream",
     "text": [
      "CPU times: user 8.34 s, sys: 12.2 ms, total: 8.35 s\n",
      "Wall time: 8.33 s\n"
     ]
    },
    {
     "data": {
      "image/png": "[encoded data removed]",
      "text/plain": [
       "<Figure size 1440x432 with 2 Axes>"
      ]
     },
     "metadata": {
      "needs_background": "light"
     },
     "output_type": "display_data"
    }
   ],
   "source": [
    "plot_rewards(R)"
   ]
  },
  {
   "cell_type": "code",
   "execution_count": 373,
   "metadata": {},
   "outputs": [
    {
     "name": "stdout",
     "output_type": "stream",
     "text": [
      "Solved in 829 steps.\n",
      "Done!\n"
     ]
    }
   ],
   "source": [
    "check_solve(R)"
   ]
  },
  {
   "cell_type": "markdown",
   "metadata": {},
   "source": [
    "---\n",
    "#### Hyperparameters optimization"
   ]
  },
  {
   "cell_type": "code",
   "execution_count": 341,
   "metadata": {},
   "outputs": [
    {
     "name": "stdout",
     "output_type": "stream",
     "text": [
      "CPU times: user 48.3 s, sys: 39.4 ms, total: 48.3 s\n",
      "Wall time: 48.3 s\n"
     ]
    }
   ],
   "source": [
    "%%time\n",
    "alpha = [0.01,0.008,0.006,0.004,0.002,0.001]\n",
    "gamma = [0.99]\n",
    "df = opt(1000,alpha,gamma)"
   ]
  },
  {
   "cell_type": "code",
   "execution_count": 342,
   "metadata": {},
   "outputs": [
    {
     "data": {
      "text/html": [
       "<div>\n",
       "<style scoped>\n",
       "    .dataframe tbody tr th:only-of-type {\n",
       "        vertical-align: middle;\n",
       "    }\n",
       "\n",
       "    .dataframe tbody tr th {\n",
       "        vertical-align: top;\n",
       "    }\n",
       "\n",
       "    .dataframe thead th {\n",
       "        text-align: right;\n",
       "    }\n",
       "</style>\n",
       "<table border=\"1\" class=\"dataframe\">\n",
       "  <thead>\n",
       "    <tr style=\"text-align: right;\">\n",
       "      <th></th>\n",
       "      <th>total_reward</th>\n",
       "      <th>av_reward</th>\n",
       "      <th>alpha</th>\n",
       "      <th>gamma</th>\n",
       "    </tr>\n",
       "  </thead>\n",
       "  <tbody>\n",
       "    <tr>\n",
       "      <th>2</th>\n",
       "      <td>178803.0</td>\n",
       "      <td>178.803</td>\n",
       "      <td>0.006</td>\n",
       "      <td>0.99</td>\n",
       "    </tr>\n",
       "    <tr>\n",
       "      <th>4</th>\n",
       "      <td>178048.0</td>\n",
       "      <td>178.048</td>\n",
       "      <td>0.002</td>\n",
       "      <td>0.99</td>\n",
       "    </tr>\n",
       "    <tr>\n",
       "      <th>5</th>\n",
       "      <td>165706.0</td>\n",
       "      <td>165.706</td>\n",
       "      <td>0.001</td>\n",
       "      <td>0.99</td>\n",
       "    </tr>\n",
       "    <tr>\n",
       "      <th>0</th>\n",
       "      <td>164319.0</td>\n",
       "      <td>164.319</td>\n",
       "      <td>0.010</td>\n",
       "      <td>0.99</td>\n",
       "    </tr>\n",
       "    <tr>\n",
       "      <th>1</th>\n",
       "      <td>154088.0</td>\n",
       "      <td>154.088</td>\n",
       "      <td>0.008</td>\n",
       "      <td>0.99</td>\n",
       "    </tr>\n",
       "    <tr>\n",
       "      <th>3</th>\n",
       "      <td>153023.0</td>\n",
       "      <td>153.023</td>\n",
       "      <td>0.004</td>\n",
       "      <td>0.99</td>\n",
       "    </tr>\n",
       "  </tbody>\n",
       "</table>\n",
       "</div>"
      ],
      "text/plain": [
       "   total_reward  av_reward  alpha  gamma\n",
       "2      178803.0    178.803  0.006   0.99\n",
       "4      178048.0    178.048  0.002   0.99\n",
       "5      165706.0    165.706  0.001   0.99\n",
       "0      164319.0    164.319  0.010   0.99\n",
       "1      154088.0    154.088  0.008   0.99\n",
       "3      153023.0    153.023  0.004   0.99"
      ]
     },
     "execution_count": 342,
     "metadata": {},
     "output_type": "execute_result"
    }
   ],
   "source": [
    "df"
   ]
  },
  {
   "cell_type": "code",
   "execution_count": 26,
   "metadata": {},
   "outputs": [],
   "source": [
    "def reward_results(n_tries,n_episodes,alpha,y):\n",
    "    R_vec = []\n",
    "    for i in range(n_tries):\n",
    "        R = renv_play(n_episodes,alpha,y)\n",
    "        R_vec.append(sum(R))\n",
    "    print('|Av. R: {:.2f}| Std. R: {:.2f}| Max R: {:.2f}| Min R: {:.2f}|'.format(np.mean(R_vec),np.std(R_vec),max(R_vec),min(R_vec)))"
   ]
  },
  {
   "cell_type": "code",
   "execution_count": null,
   "metadata": {},
   "outputs": [],
   "source": [
    "reward_results(n_tries,n_episodes,alpha,y)"
   ]
  }
 ],
 "metadata": {
  "kernelspec": {
   "display_name": "Python 3 (ipykernel)",
   "language": "python",
   "name": "python3"
  },
  "language_info": {
   "codemirror_mode": {
    "name": "ipython",
    "version": 3
   },
   "file_extension": ".py",
   "mimetype": "text/x-python",
   "name": "python",
   "nbconvert_exporter": "python",
   "pygments_lexer": "ipython3",
   "version": "3.8.5"
  }
 },
 "nbformat": 4,
 "nbformat_minor": 4
}
