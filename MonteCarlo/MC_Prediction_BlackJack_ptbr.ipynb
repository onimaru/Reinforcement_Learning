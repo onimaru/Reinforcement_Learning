{
 "cells": [
  {
   "cell_type": "code",
   "execution_count": 1,
   "metadata": {},
   "outputs": [],
   "source": [
    "import numpy as np\n",
    "import gym\n",
    "from collections import defaultdict"
   ]
  },
  {
   "cell_type": "code",
   "execution_count": 2,
   "metadata": {},
   "outputs": [
    {
     "name": "stderr",
     "output_type": "stream",
     "text": [
      "/home/ninja/.local/lib/python3.6/site-packages/gym/envs/registration.py:14: PkgResourcesDeprecationWarning: Parameters to load are deprecated.  Call .resolve and .require separately.\n",
      "  result = entry_point.load(False)\n"
     ]
    }
   ],
   "source": [
    "env = gym.make('Blackjack-v0')"
   ]
  },
  {
   "cell_type": "code",
   "execution_count": 5,
   "metadata": {},
   "outputs": [],
   "source": [
    "'''\n",
    "Ao reiniciar o ambiente recebemos o estado inicial:\n",
    "(\n",
    "  soma das cartas na mão do jogador,\n",
    "  soma das cartas na mão do dealer,\n",
    "  ás usável\n",
    "  )\n",
    "'''\n",
    "state = env.reset()\n",
    "state"
   ]
  },
  {
   "cell_type": "code",
   "execution_count": 128,
   "metadata": {},
   "outputs": [
    {
     "data": {
      "text/plain": [
       "Discrete(2)"
      ]
     },
     "execution_count": 128,
     "metadata": {},
     "output_type": "execute_result"
    }
   ],
   "source": [
    "'''\n",
    "Há duas ações possíveis:\n",
    "0 - stick, não pedir carta\n",
    "1 - hit, pedir mais uma carta\n",
    "'''\n",
    "env.action_space"
   ]
  },
  {
   "cell_type": "code",
   "execution_count": 8,
   "metadata": {},
   "outputs": [],
   "source": [
    "'''\n",
    "Ao escolher uma ação recebemos:\n",
    "o novo estado,\n",
    "a recompensa e\n",
    "um booleano: (True = fim de jogo / False = jogo continua)\n",
    "'''\n",
    "next_state = env.step(1)\n",
    "next_state"
   ]
  },
  {
   "cell_type": "code",
   "execution_count": 7,
   "metadata": {},
   "outputs": [
    {
     "data": {
      "text/plain": [
       "Tuple(Discrete(32), Discrete(11), Discrete(2))"
      ]
     },
     "execution_count": 7,
     "metadata": {},
     "output_type": "execute_result"
    }
   ],
   "source": [
    "'''\n",
    "As possíveis combinações retornadas por env.step()\n",
    "formam o espaço de observação\n",
    "'''\n",
    "env.observation_space"
   ]
  },
  {
   "cell_type": "code",
   "execution_count": 11,
   "metadata": {},
   "outputs": [],
   "source": [
    "'''\n",
    "A estratégia é pedir mais uma carta se a soma da mão for \n",
    "menor que 20 e caso contrário parar.\n",
    "'''\n",
    "def policy(state):\n",
    "    hand, dealer_hand, usable_ace = state\n",
    "    return 0 if hand >=20 else 1"
   ]
  },
  {
   "cell_type": "code",
   "execution_count": 12,
   "metadata": {},
   "outputs": [],
   "source": [
    "'''\n",
    "Geramos um episódio inteiro usando a política definida\n",
    "'''\n",
    "def get_episode():\n",
    "    state = env.reset()\n",
    "    episode = []\n",
    "    while True:\n",
    "        action = policy(state)\n",
    "        next_state, reward, done, _ = env.step(action)\n",
    "        episode.append((state,reward,action))\n",
    "        if done: break\n",
    "        state = next_state\n",
    "    return episode"
   ]
  },
  {
   "cell_type": "code",
   "execution_count": 243,
   "metadata": {},
   "outputs": [],
   "source": [
    "'''\n",
    "Aplicamos o método de monte carlo para fazer a previsão \n",
    "dos valores dos esdados\n",
    "'''\n",
    "def bj_play(n_episodes = 100,verbose=1):\n",
    "    returns = defaultdict(float)\n",
    "    num_states = defaultdict(float)\n",
    "    V = defaultdict(float)\n",
    "    R = []\n",
    "    for i in range(n_episodes):\n",
    "        G = 0\n",
    "        episode = get_episode()\n",
    "        states = [item[0] for item in episode]\n",
    "        rewards = [item[1] for item in episode]\n",
    "        action = [item[2] for item in episode]\n",
    "        R.append(sum(rewards))\n",
    "            \n",
    "        for t in range(len(episode)):\n",
    "            G = 0.95*G + rewards[t]\n",
    "            returns[states[t]] += G\n",
    "            num_states[states[t]] += 1\n",
    "            V[states[t]] = V[states[t]]+ 1/num_states[states[t]]*(G-V[states[t]])\n",
    "    \n",
    "    if verbose ==1:\n",
    "        r_pos = sum([i for i in R if i>0])\n",
    "        r_draw = sum([1 for i in R if i==0])\n",
    "        r_neg = sum([i for i in R if i<0])\n",
    "        p_win = r_pos/(r_pos + abs(r_neg)+r_draw)\n",
    "        p_lose = abs(r_neg)/(r_pos + abs(r_neg)+r_draw)\n",
    "        p_draw = r_draw/(r_pos + abs(r_neg)+r_draw)\n",
    "        print('Porcentagem de vitórias: {:.2%}\\nPorcentagem de derrotas: {:.2%}\\nPorcentagem de empates: {:.2%}'.format(p_win,p_lose,p_draw))\n",
    "        print('')\n",
    "        print('Retona: State,State_value.')\n",
    "    \n",
    "    return V"
   ]
  },
  {
   "cell_type": "code",
   "execution_count": 244,
   "metadata": {},
   "outputs": [
    {
     "name": "stdout",
     "output_type": "stream",
     "text": [
      "Porcentagem de vitórias: 29.22%\n",
      "Porcentagem de derrotas: 64.92%\n",
      "Porcentagem de empates: 5.86%\n",
      "\n",
      "Retona: State,State_value.\n",
      "CPU times: user 4.72 s, sys: 0 ns, total: 4.72 s\n",
      "Wall time: 4.72 s\n"
     ]
    }
   ],
   "source": [
    "%%time\n",
    "V = bj_play(100000,1)"
   ]
  },
  {
   "cell_type": "code",
   "execution_count": 238,
   "metadata": {},
   "outputs": [
    {
     "data": {
      "text/plain": [
       "280"
      ]
     },
     "execution_count": 238,
     "metadata": {},
     "output_type": "execute_result"
    }
   ],
   "source": [
    "'''\n",
    "Geramos 250 estados diferentes\n",
    "'''\n",
    "len(set(V))"
   ]
  },
  {
   "cell_type": "code",
   "execution_count": 239,
   "metadata": {},
   "outputs": [
    {
     "data": {
      "text/plain": [
       "[((21, 8, True), 0.9343544857768049),\n",
       " ((21, 3, True), 0.8596112311015123),\n",
       " ((21, 10, True), 0.8917333333333335),\n",
       " ((16, 10, False), -0.6099534199558697),\n",
       " ((15, 10, True), 0.0),\n",
       " ((13, 10, False), -0.38617245005257456),\n",
       " ((20, 10, False), 0.4306930693069298),\n",
       " ((18, 5, False), -0.7707762557077623),\n",
       " ((8, 8, False), 0.0),\n",
       " ((11, 8, False), 0.0)]"
      ]
     },
     "execution_count": 239,
     "metadata": {},
     "output_type": "execute_result"
    }
   ],
   "source": [
    "list(V.items())[:10]"
   ]
  },
  {
   "cell_type": "code",
   "execution_count": 240,
   "metadata": {},
   "outputs": [
    {
     "data": {
      "text/plain": [
       "[((21, 10, True), 0.8917333333333335),\n",
       " ((21, 10, False), 0.8822531387852054),\n",
       " ((21, 9, True), 0.9434889434889432),\n",
       " ((21, 9, False), 0.9363143631436311),\n",
       " ((21, 8, True), 0.9343544857768049),\n",
       " ((21, 8, False), 0.933852140077821),\n",
       " ((21, 7, True), 0.882121807465619),\n",
       " ((21, 7, False), 0.9197930142302717),\n",
       " ((21, 6, True), 0.8987068965517251),\n",
       " ((21, 6, False), 0.8799999999999998)]"
      ]
     },
     "execution_count": 240,
     "metadata": {},
     "output_type": "execute_result"
    }
   ],
   "source": [
    "sorted(V.items(),reverse=True)[:10]"
   ]
  }
 ],
 "metadata": {
  "kernelspec": {
   "display_name": "Python 3 (ipykernel)",
   "language": "python",
   "name": "python3"
  },
  "language_info": {
   "codemirror_mode": {
    "name": "ipython",
    "version": 3
   },
   "file_extension": ".py",
   "mimetype": "text/x-python",
   "name": "python",
   "nbconvert_exporter": "python",
   "pygments_lexer": "ipython3",
   "version": "3.8.5"
  }
 },
 "nbformat": 4,
 "nbformat_minor": 4
}
