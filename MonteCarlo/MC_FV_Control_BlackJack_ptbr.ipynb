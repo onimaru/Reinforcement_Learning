{
 "cells": [
  {
   "cell_type": "code",
   "execution_count": 1181,
   "metadata": {},
   "outputs": [],
   "source": [
    "import numpy as np\n",
    "import gym\n",
    "from collections import defaultdict\n",
    "import matplotlib.pyplot as plt\n",
    "from matplotlib import cm\n",
    "from matplotlib.ticker import LinearLocator, FormatStrFormatter\n",
    "from mpl_toolkits.mplot3d import Axes3D"
   ]
  },
  {
   "cell_type": "code",
   "execution_count": 2,
   "metadata": {},
   "outputs": [
    {
     "name": "stderr",
     "output_type": "stream",
     "text": [
      "/home/ninja/.local/lib/python3.6/site-packages/gym/envs/registration.py:14: PkgResourcesDeprecationWarning: Parameters to load are deprecated.  Call .resolve and .require separately.\n",
      "  result = entry_point.load(False)\n"
     ]
    }
   ],
   "source": [
    "env = gym.make('Blackjack-v0')"
   ]
  },
  {
   "cell_type": "code",
   "execution_count": 3,
   "metadata": {},
   "outputs": [
    {
     "data": {
      "text/plain": [
       "(12, 10, False)"
      ]
     },
     "execution_count": 3,
     "metadata": {},
     "output_type": "execute_result"
    }
   ],
   "source": [
    "'''\n",
    "Ao reiniciar o ambiente recebemos o estado inicial:\n",
    "(\n",
    "  soma das cartas na mão do jogador,\n",
    "  soma das cartas na mão do dealer,\n",
    "  ás usável\n",
    "  )\n",
    "'''\n",
    "state = env.reset()\n",
    "state"
   ]
  },
  {
   "cell_type": "code",
   "execution_count": 4,
   "metadata": {},
   "outputs": [
    {
     "data": {
      "text/plain": [
       "Discrete(2)"
      ]
     },
     "execution_count": 4,
     "metadata": {},
     "output_type": "execute_result"
    }
   ],
   "source": [
    "'''\n",
    "Há duas ações possíveis:\n",
    "0 - stick, não pedir carta\n",
    "1 - hit, pedir mais uma carta\n",
    "'''\n",
    "env.action_space"
   ]
  },
  {
   "cell_type": "code",
   "execution_count": 5,
   "metadata": {},
   "outputs": [
    {
     "data": {
      "text/plain": [
       "((15, 10, False), 0, False, {})"
      ]
     },
     "execution_count": 5,
     "metadata": {},
     "output_type": "execute_result"
    }
   ],
   "source": [
    "'''\n",
    "Ao escolher uma ação recebemos:\n",
    "o novo estado,\n",
    "a recompensa e\n",
    "um booleano: (True = fim de jogo / False = jogo continua)\n",
    "'''\n",
    "next_state = env.step(1)\n",
    "next_state"
   ]
  },
  {
   "cell_type": "code",
   "execution_count": 6,
   "metadata": {},
   "outputs": [
    {
     "data": {
      "text/plain": [
       "Tuple(Discrete(32), Discrete(11), Discrete(2))"
      ]
     },
     "execution_count": 6,
     "metadata": {},
     "output_type": "execute_result"
    }
   ],
   "source": [
    "'''\n",
    "As possíveis combinações retornadas por env.step()\n",
    "formam o espaço de observação\n",
    "'''\n",
    "env.observation_space"
   ]
  },
  {
   "cell_type": "code",
   "execution_count": 782,
   "metadata": {},
   "outputs": [],
   "source": [
    "def define_states():\n",
    "    V = defaultdict(list)\n",
    "    for hand in range(1,22):\n",
    "        for deal in range(1,11):\n",
    "            V[(hand,deal,False)] = []\n",
    "            V[(hand,deal,True)] = []\n",
    "    return V"
   ]
  },
  {
   "cell_type": "code",
   "execution_count": 843,
   "metadata": {},
   "outputs": [
    {
     "data": {
      "text/plain": [
       "420"
      ]
     },
     "execution_count": 843,
     "metadata": {},
     "output_type": "execute_result"
    }
   ],
   "source": [
    "# número de diferentes estado\n",
    "len(define_states().keys())"
   ]
  },
  {
   "cell_type": "code",
   "execution_count": 1101,
   "metadata": {},
   "outputs": [],
   "source": [
    "def define_state_actions():\n",
    "    Q = defaultdict(list)\n",
    "    for hand in range(1,22):\n",
    "        for deal in range(1,11):\n",
    "            Q[(hand,deal,False), 0] = [0.,0.]\n",
    "            Q[(hand,deal,False), 1] = [0.,0.]\n",
    "            Q[(hand,deal,True), 0] = [0.,0.]\n",
    "            Q[(hand,deal,True), 1] = [0.,0.]\n",
    "    return Q"
   ]
  },
  {
   "cell_type": "code",
   "execution_count": 842,
   "metadata": {},
   "outputs": [
    {
     "data": {
      "text/plain": [
       "840"
      ]
     },
     "execution_count": 842,
     "metadata": {},
     "output_type": "execute_result"
    }
   ],
   "source": [
    "# número de diferentes estados-ação\n",
    "len(define_state_actions().keys())"
   ]
  },
  {
   "cell_type": "code",
   "execution_count": 1139,
   "metadata": {},
   "outputs": [],
   "source": [
    "'''\n",
    "Policy: near-greedy\n",
    "A estratégia é escolher aleatoriamente um número entre [0,1): se este for maior que\n",
    "epsilom e o valor das ações disponíveis para o estado atual forem diferentes, então\n",
    "escolhemos a ação que possui maior valor para o estado atual (exploitation); caso \n",
    "contrário, escolhemos aleatoriamente entre as ações (exploration).\n",
    "'''\n",
    "def policy_near_greedy(state,Q,e):\n",
    "    if np.random.rand() > e and Q[state, 0][0] != Q[state, 1][0]:\n",
    "        return np.argmax([Q[state, 0][0],Q[state, 1][0]])\n",
    "    else: return np.random.randint(0,2)"
   ]
  },
  {
   "cell_type": "code",
   "execution_count": 1103,
   "metadata": {},
   "outputs": [],
   "source": [
    "'''\n",
    "Policy: e-soft\n",
    "'''\n",
    "def policy_e_soft(state,Q,e):\n",
    "    action_probs = [e/2,e/2]\n",
    "    best_action = np.argmax([Q[state, 0][0],Q[state, 1][0]])\n",
    "    action_probs[best_action] += 1 -e\n",
    "    return np.random.choice([0,1],p=action_probs)"
   ]
  },
  {
   "cell_type": "code",
   "execution_count": 1136,
   "metadata": {},
   "outputs": [],
   "source": [
    "'''\n",
    "Verificamos se a utilização do e-greedy está funcionando\n",
    "'''\n",
    "def epsilon(state,e):\n",
    "    sm = []\n",
    "    hm = []\n",
    "    for j in range(1000):\n",
    "        stick = 0\n",
    "        hit = 0\n",
    "        for i in range(1000):\n",
    "            #action = policy_e_soft(state,Q,e)\n",
    "            # uncoment to change to near_greedy policy\n",
    "            action = policy_near_greedy(state,Q,e)\n",
    "            if action == 0:\n",
    "                stick +=1\n",
    "            else: hit += 1\n",
    "        sm.append(stick)\n",
    "        hm.append(hit)\n",
    "\n",
    "    return np.mean(sm),np.mean(hm)"
   ]
  },
  {
   "cell_type": "code",
   "execution_count": 1166,
   "metadata": {},
   "outputs": [],
   "source": [
    "'''\n",
    "Geramos um episódio inteiro usando a política definida\n",
    "'''\n",
    "def get_episode(Q,e):\n",
    "    state = env.reset()\n",
    "    episode = []\n",
    "    while True:\n",
    "        action = policy_e_soft(state,Q,e)\n",
    "        # uncoment to change to near_greedy policy\n",
    "        #action = policy_near_greedy(state,Q,e)\n",
    "        next_state, reward, done, _ = env.step(action)\n",
    "        episode.append((state,reward,action))\n",
    "        if done: break\n",
    "        state = next_state\n",
    "    return episode"
   ]
  },
  {
   "cell_type": "code",
   "execution_count": 1162,
   "metadata": {},
   "outputs": [],
   "source": [
    "'''\n",
    "Aplicamos o método de monte carlo para fazer a previsão \n",
    "dos valores dos esdados\n",
    "'''\n",
    "def bj_play(n_episodes,e,verbose=1,Q=None):\n",
    "    if Q == None:\n",
    "        Q = define_state_actions()\n",
    "    id2act = {0:[1.,0.],1:[0.,1.]}\n",
    "    returns = defaultdict(float)\n",
    "    num_states = defaultdict(float)\n",
    "    R = []\n",
    "    V = defaultdict(float)\n",
    "    for i in range(n_episodes):\n",
    "        G = 0\n",
    "        episode = get_episode(Q,e)\n",
    "        states = [item[0] for item in episode]\n",
    "        rewards = [item[1] for item in episode]\n",
    "        action = [item[2] for item in episode]\n",
    "        R.append(sum(rewards))\n",
    "        \n",
    "        for t in range(len(episode)):\n",
    "            #G = 0.95*G + rewards[t]\n",
    "            G = sum(rewards)\n",
    "            returns[states[t],action[t]] += G\n",
    "            num_states[states[t],action[t]] += 1\n",
    "            V[states[t]] = returns[states[t],action[t]] /  num_states[states[t],action[t]]\n",
    "            #Q[(states[t],tuple(id2act[action[t]]))] = [(returns[states[t]] + 0.95*V[states[t]]) / num_states[states[t]],returns[states[t]] /  num_states[states[t]]]\n",
    "            Q[(states[t],action[t])] = [(returns[states[t],action[t]] + 0.95*V[states[t]]) / num_states[states[t],action[t]],returns[states[t],action[t]] /  num_states[states[t],action[t]]]\n",
    "        \n",
    "    if verbose ==1:\n",
    "        r_pos = sum([i for i in R if i>0])\n",
    "        r_draw = sum([1 for i in R if i==0])\n",
    "        r_neg = sum([i for i in R if i<0])\n",
    "        p_win = r_pos/(r_pos + abs(r_neg)+r_draw)\n",
    "        p_lose = abs(r_neg)/(r_pos + abs(r_neg)+r_draw)\n",
    "        p_draw = r_draw/(r_pos + abs(r_neg)+r_draw)\n",
    "        print('Porcentagem de vitórias: {:.2%}\\nPorcentagem de derrotas: {:.2%}\\nPorcentagem de empates: {:.2%}'.format(p_win,p_lose,p_draw))\n",
    "        print('')\n",
    "        print('Retona: State, Action, State_Action_value, State_value.')\n",
    "    return Q,returns,V"
   ]
  },
  {
   "cell_type": "code",
   "execution_count": 1173,
   "metadata": {},
   "outputs": [
    {
     "name": "stdout",
     "output_type": "stream",
     "text": [
      "Porcentagem de vitórias: 39.50%\n",
      "Porcentagem de derrotas: 54.13%\n",
      "Porcentagem de empates: 6.37%\n",
      "\n",
      "Retona: State, Action, State_Action_value, State_value.\n",
      "CPU times: user 9.28 s, sys: 9.91 ms, total: 9.29 s\n",
      "Wall time: 9.3 s\n"
     ]
    }
   ],
   "source": [
    "%%time\n",
    "Q,R,V = bj_play(100000,0.005)"
   ]
  },
  {
   "cell_type": "code",
   "execution_count": 1174,
   "metadata": {},
   "outputs": [
    {
     "name": "stdout",
     "output_type": "stream",
     "text": [
      "Porcentagem de vitórias: 40.03%\n",
      "Porcentagem de derrotas: 52.92%\n",
      "Porcentagem de empates: 7.05%\n",
      "\n",
      "Retona: State, Action, State_Action_value, State_value.\n",
      "CPU times: user 9.48 s, sys: 10.2 ms, total: 9.49 s\n",
      "Wall time: 9.47 s\n"
     ]
    }
   ],
   "source": [
    "%%time\n",
    "Q,R,V = bj_play(100000,0.01)"
   ]
  },
  {
   "cell_type": "code",
   "execution_count": 1175,
   "metadata": {},
   "outputs": [
    {
     "name": "stdout",
     "output_type": "stream",
     "text": [
      "Porcentagem de vitórias: 40.80%\n",
      "Porcentagem de derrotas: 51.38%\n",
      "Porcentagem de empates: 7.82%\n",
      "\n",
      "Retona: State, Action, State_Action_value, State_value.\n",
      "CPU times: user 10 s, sys: 66.4 ms, total: 10.1 s\n",
      "Wall time: 10 s\n"
     ]
    }
   ],
   "source": [
    "%%time\n",
    "Q,R,V = bj_play(100000,0.05)"
   ]
  },
  {
   "cell_type": "code",
   "execution_count": 1176,
   "metadata": {},
   "outputs": [
    {
     "name": "stdout",
     "output_type": "stream",
     "text": [
      "Porcentagem de vitórias: 40.11%\n",
      "Porcentagem de derrotas: 51.84%\n",
      "Porcentagem de empates: 8.05%\n",
      "\n",
      "Retona: State, Action, State_Action_value, State_value.\n",
      "CPU times: user 10.2 s, sys: 23.2 ms, total: 10.2 s\n",
      "Wall time: 10.2 s\n"
     ]
    }
   ],
   "source": [
    "%%time\n",
    "Q,R,V = bj_play(100000,0.1)"
   ]
  },
  {
   "cell_type": "code",
   "execution_count": 1177,
   "metadata": {},
   "outputs": [
    {
     "name": "stdout",
     "output_type": "stream",
     "text": [
      "Porcentagem de vitórias: 39.44%\n",
      "Porcentagem de derrotas: 53.15%\n",
      "Porcentagem de empates: 7.41%\n",
      "\n",
      "Retona: State, Action, State_Action_value, State_value.\n",
      "CPU times: user 10.1 s, sys: 38.7 ms, total: 10.1 s\n",
      "Wall time: 10.1 s\n"
     ]
    }
   ],
   "source": [
    "%%time\n",
    "Q,R,V = bj_play(100000,0.2)"
   ]
  },
  {
   "cell_type": "code",
   "execution_count": 1178,
   "metadata": {},
   "outputs": [
    {
     "name": "stdout",
     "output_type": "stream",
     "text": [
      "Porcentagem de vitórias: 38.39%\n",
      "Porcentagem de derrotas: 54.60%\n",
      "Porcentagem de empates: 7.02%\n",
      "\n",
      "Retona: State, Action, State_Action_value, State_value.\n",
      "CPU times: user 10.1 s, sys: 83.6 ms, total: 10.2 s\n",
      "Wall time: 10.1 s\n"
     ]
    }
   ],
   "source": [
    "%%time\n",
    "Q,R,V = bj_play(100000,0.25)"
   ]
  },
  {
   "cell_type": "code",
   "execution_count": 1179,
   "metadata": {},
   "outputs": [
    {
     "name": "stdout",
     "output_type": "stream",
     "text": [
      "Porcentagem de vitórias: 38.29%\n",
      "Porcentagem de derrotas: 54.67%\n",
      "Porcentagem de empates: 7.05%\n",
      "\n",
      "Retona: State, Action, State_Action_value, State_value.\n",
      "CPU times: user 10 s, sys: 50.9 ms, total: 10.1 s\n",
      "Wall time: 10 s\n"
     ]
    }
   ],
   "source": [
    "%%time\n",
    "Q,R,V = bj_play(100000,0.3)"
   ]
  },
  {
   "cell_type": "code",
   "execution_count": 1180,
   "metadata": {},
   "outputs": [
    {
     "data": {
      "text/plain": [
       "[(((21, 10, True), 1), [-0.11651797612534893, -0.11610486891385768]),\n",
       " (((21, 10, True), 0), [0.888857034824517, 0.8882602545968883]),\n",
       " (((21, 10, False), 1), [-1.0043778801843317, -1.0]),\n",
       " (((21, 10, False), 0), [0.882899394957624, 0.8821396192203083]),\n",
       " (((21, 9, True), 1), [-0.08815374921235035, -0.08695652173913043]),\n",
       " (((21, 9, True), 0), [0.9483333485455592, 0.945619335347432]),\n",
       " (((21, 9, False), 1), [-1.017924528301887, -1.0]),\n",
       " (((21, 9, False), 0), [0.943362824836342, 0.9408450704225352]),\n",
       " (((21, 8, True), 1), [-0.0982570239334027, -0.0967741935483871]),\n",
       " (((21, 8, True), 0), [0.9344269168103948, 0.9321148825065274])]"
      ]
     },
     "execution_count": 1180,
     "metadata": {},
     "output_type": "execute_result"
    }
   ],
   "source": [
    "sorted(Q.items(),reverse=True)[:10]"
   ]
  },
  {
   "cell_type": "code",
   "execution_count": 968,
   "metadata": {},
   "outputs": [],
   "source": [
    "def verify_policy(x,y,V):\n",
    "    z = []\n",
    "    h = []\n",
    "    d = []\n",
    "    #df = pd.DataFrame({'hand':[],'deal':[],'value':[]})\n",
    "    \n",
    "    for i in x:\n",
    "        for j in y:\n",
    "            h.append(i)\n",
    "            d.append(j)\n",
    "            z.append(V[(i,j,False)])\n",
    "            \n",
    "    return pd.DataFrame({'hand':h,'deal':d,'value':z})"
   ]
  },
  {
   "cell_type": "code",
   "execution_count": 1081,
   "metadata": {},
   "outputs": [
    {
     "data": {
      "text/html": [
       "<div>\n",
       "<style scoped>\n",
       "    .dataframe tbody tr th:only-of-type {\n",
       "        vertical-align: middle;\n",
       "    }\n",
       "\n",
       "    .dataframe tbody tr th {\n",
       "        vertical-align: top;\n",
       "    }\n",
       "\n",
       "    .dataframe thead th {\n",
       "        text-align: right;\n",
       "    }\n",
       "</style>\n",
       "<table border=\"1\" class=\"dataframe\">\n",
       "  <thead>\n",
       "    <tr style=\"text-align: right;\">\n",
       "      <th></th>\n",
       "      <th>hand</th>\n",
       "      <th>deal</th>\n",
       "      <th>value</th>\n",
       "    </tr>\n",
       "  </thead>\n",
       "  <tbody>\n",
       "    <tr>\n",
       "      <th>0</th>\n",
       "      <td>12</td>\n",
       "      <td>1</td>\n",
       "      <td>-0.364269</td>\n",
       "    </tr>\n",
       "    <tr>\n",
       "      <th>1</th>\n",
       "      <td>12</td>\n",
       "      <td>2</td>\n",
       "      <td>-0.302785</td>\n",
       "    </tr>\n",
       "    <tr>\n",
       "      <th>2</th>\n",
       "      <td>12</td>\n",
       "      <td>3</td>\n",
       "      <td>-0.272451</td>\n",
       "    </tr>\n",
       "    <tr>\n",
       "      <th>3</th>\n",
       "      <td>12</td>\n",
       "      <td>4</td>\n",
       "      <td>-0.247813</td>\n",
       "    </tr>\n",
       "    <tr>\n",
       "      <th>4</th>\n",
       "      <td>12</td>\n",
       "      <td>5</td>\n",
       "      <td>-0.234348</td>\n",
       "    </tr>\n",
       "  </tbody>\n",
       "</table>\n",
       "</div>"
      ],
      "text/plain": [
       "   hand  deal     value\n",
       "0    12     1 -0.364269\n",
       "1    12     2 -0.302785\n",
       "2    12     3 -0.272451\n",
       "3    12     4 -0.247813\n",
       "4    12     5 -0.234348"
      ]
     },
     "execution_count": 1081,
     "metadata": {},
     "output_type": "execute_result"
    }
   ],
   "source": [
    "x = np.arange(12,22)\n",
    "y = np.arange(1,11)\n",
    "df = verify_policy(x,y,V7)\n",
    "df.head()"
   ]
  },
  {
   "cell_type": "code",
   "execution_count": 1082,
   "metadata": {},
   "outputs": [
    {
     "data": {
      "text/html": [
       "<div>\n",
       "<style scoped>\n",
       "    .dataframe tbody tr th:only-of-type {\n",
       "        vertical-align: middle;\n",
       "    }\n",
       "\n",
       "    .dataframe tbody tr th {\n",
       "        vertical-align: top;\n",
       "    }\n",
       "\n",
       "    .dataframe thead th {\n",
       "        text-align: right;\n",
       "    }\n",
       "</style>\n",
       "<table border=\"1\" class=\"dataframe\">\n",
       "  <thead>\n",
       "    <tr style=\"text-align: right;\">\n",
       "      <th>hand</th>\n",
       "      <th>12</th>\n",
       "      <th>13</th>\n",
       "      <th>14</th>\n",
       "      <th>15</th>\n",
       "      <th>16</th>\n",
       "      <th>17</th>\n",
       "      <th>18</th>\n",
       "      <th>19</th>\n",
       "      <th>20</th>\n",
       "      <th>21</th>\n",
       "    </tr>\n",
       "    <tr>\n",
       "      <th>deal</th>\n",
       "      <th></th>\n",
       "      <th></th>\n",
       "      <th></th>\n",
       "      <th></th>\n",
       "      <th></th>\n",
       "      <th></th>\n",
       "      <th></th>\n",
       "      <th></th>\n",
       "      <th></th>\n",
       "      <th></th>\n",
       "    </tr>\n",
       "  </thead>\n",
       "  <tbody>\n",
       "    <tr>\n",
       "      <th>1</th>\n",
       "      <td>-0.364269</td>\n",
       "      <td>-0.445616</td>\n",
       "      <td>-0.503426</td>\n",
       "      <td>-0.593282</td>\n",
       "      <td>-0.643523</td>\n",
       "      <td>-0.659091</td>\n",
       "      <td>-0.447109</td>\n",
       "      <td>-0.221094</td>\n",
       "      <td>0.040238</td>\n",
       "      <td>0.539807</td>\n",
       "    </tr>\n",
       "    <tr>\n",
       "      <th>2</th>\n",
       "      <td>-0.302785</td>\n",
       "      <td>-0.319860</td>\n",
       "      <td>-0.342297</td>\n",
       "      <td>-0.348458</td>\n",
       "      <td>-0.358678</td>\n",
       "      <td>-0.245717</td>\n",
       "      <td>0.018033</td>\n",
       "      <td>0.264058</td>\n",
       "      <td>0.513949</td>\n",
       "      <td>0.800447</td>\n",
       "    </tr>\n",
       "    <tr>\n",
       "      <th>3</th>\n",
       "      <td>-0.272451</td>\n",
       "      <td>-0.290896</td>\n",
       "      <td>-0.329996</td>\n",
       "      <td>-0.316098</td>\n",
       "      <td>-0.346547</td>\n",
       "      <td>-0.188651</td>\n",
       "      <td>0.042878</td>\n",
       "      <td>0.287595</td>\n",
       "      <td>0.551985</td>\n",
       "      <td>0.809433</td>\n",
       "    </tr>\n",
       "    <tr>\n",
       "      <th>4</th>\n",
       "      <td>-0.247813</td>\n",
       "      <td>-0.285148</td>\n",
       "      <td>-0.302383</td>\n",
       "      <td>-0.285523</td>\n",
       "      <td>-0.292231</td>\n",
       "      <td>-0.156542</td>\n",
       "      <td>0.080780</td>\n",
       "      <td>0.355192</td>\n",
       "      <td>0.552551</td>\n",
       "      <td>0.821529</td>\n",
       "    </tr>\n",
       "    <tr>\n",
       "      <th>5</th>\n",
       "      <td>-0.234348</td>\n",
       "      <td>-0.233665</td>\n",
       "      <td>-0.241450</td>\n",
       "      <td>-0.235912</td>\n",
       "      <td>-0.220964</td>\n",
       "      <td>-0.125733</td>\n",
       "      <td>0.084834</td>\n",
       "      <td>0.320521</td>\n",
       "      <td>0.566958</td>\n",
       "      <td>0.824232</td>\n",
       "    </tr>\n",
       "    <tr>\n",
       "      <th>6</th>\n",
       "      <td>-0.224189</td>\n",
       "      <td>-0.206611</td>\n",
       "      <td>-0.231525</td>\n",
       "      <td>-0.223324</td>\n",
       "      <td>-0.246168</td>\n",
       "      <td>-0.074805</td>\n",
       "      <td>0.190643</td>\n",
       "      <td>0.395002</td>\n",
       "      <td>0.618090</td>\n",
       "      <td>0.823454</td>\n",
       "    </tr>\n",
       "    <tr>\n",
       "      <th>7</th>\n",
       "      <td>-0.349543</td>\n",
       "      <td>-0.419044</td>\n",
       "      <td>-0.454453</td>\n",
       "      <td>-0.495800</td>\n",
       "      <td>-0.532276</td>\n",
       "      <td>-0.195533</td>\n",
       "      <td>0.319948</td>\n",
       "      <td>0.518743</td>\n",
       "      <td>0.678548</td>\n",
       "      <td>0.855443</td>\n",
       "    </tr>\n",
       "    <tr>\n",
       "      <th>8</th>\n",
       "      <td>-0.348082</td>\n",
       "      <td>-0.415972</td>\n",
       "      <td>-0.480398</td>\n",
       "      <td>-0.520704</td>\n",
       "      <td>-0.567850</td>\n",
       "      <td>-0.446777</td>\n",
       "      <td>0.002971</td>\n",
       "      <td>0.503246</td>\n",
       "      <td>0.688301</td>\n",
       "      <td>0.864671</td>\n",
       "    </tr>\n",
       "    <tr>\n",
       "      <th>9</th>\n",
       "      <td>-0.342981</td>\n",
       "      <td>-0.421995</td>\n",
       "      <td>-0.493053</td>\n",
       "      <td>-0.535699</td>\n",
       "      <td>-0.583854</td>\n",
       "      <td>-0.492829</td>\n",
       "      <td>-0.247551</td>\n",
       "      <td>0.184880</td>\n",
       "      <td>0.672509</td>\n",
       "      <td>0.855668</td>\n",
       "    </tr>\n",
       "    <tr>\n",
       "      <th>10</th>\n",
       "      <td>-0.354557</td>\n",
       "      <td>-0.430836</td>\n",
       "      <td>-0.498691</td>\n",
       "      <td>-0.552392</td>\n",
       "      <td>-0.592827</td>\n",
       "      <td>-0.524180</td>\n",
       "      <td>-0.331105</td>\n",
       "      <td>-0.113838</td>\n",
       "      <td>0.329157</td>\n",
       "      <td>0.799514</td>\n",
       "    </tr>\n",
       "  </tbody>\n",
       "</table>\n",
       "</div>"
      ],
      "text/plain": [
       "hand        12        13        14        15        16        17        18  \\\n",
       "deal                                                                         \n",
       "1    -0.364269 -0.445616 -0.503426 -0.593282 -0.643523 -0.659091 -0.447109   \n",
       "2    -0.302785 -0.319860 -0.342297 -0.348458 -0.358678 -0.245717  0.018033   \n",
       "3    -0.272451 -0.290896 -0.329996 -0.316098 -0.346547 -0.188651  0.042878   \n",
       "4    -0.247813 -0.285148 -0.302383 -0.285523 -0.292231 -0.156542  0.080780   \n",
       "5    -0.234348 -0.233665 -0.241450 -0.235912 -0.220964 -0.125733  0.084834   \n",
       "6    -0.224189 -0.206611 -0.231525 -0.223324 -0.246168 -0.074805  0.190643   \n",
       "7    -0.349543 -0.419044 -0.454453 -0.495800 -0.532276 -0.195533  0.319948   \n",
       "8    -0.348082 -0.415972 -0.480398 -0.520704 -0.567850 -0.446777  0.002971   \n",
       "9    -0.342981 -0.421995 -0.493053 -0.535699 -0.583854 -0.492829 -0.247551   \n",
       "10   -0.354557 -0.430836 -0.498691 -0.552392 -0.592827 -0.524180 -0.331105   \n",
       "\n",
       "hand        19        20        21  \n",
       "deal                                \n",
       "1    -0.221094  0.040238  0.539807  \n",
       "2     0.264058  0.513949  0.800447  \n",
       "3     0.287595  0.551985  0.809433  \n",
       "4     0.355192  0.552551  0.821529  \n",
       "5     0.320521  0.566958  0.824232  \n",
       "6     0.395002  0.618090  0.823454  \n",
       "7     0.518743  0.678548  0.855443  \n",
       "8     0.503246  0.688301  0.864671  \n",
       "9     0.184880  0.672509  0.855668  \n",
       "10   -0.113838  0.329157  0.799514  "
      ]
     },
     "execution_count": 1082,
     "metadata": {},
     "output_type": "execute_result"
    }
   ],
   "source": [
    "df = df.pivot(index='deal', columns='hand', values='value')\n",
    "df"
   ]
  },
  {
   "cell_type": "code",
   "execution_count": 1182,
   "metadata": {},
   "outputs": [
    {
     "data": {
      "image/png": "[encoded data removed]",
      "text/plain": [
       "<Figure size 720x432 with 2 Axes>"
      ]
     },
     "metadata": {
      "needs_background": "light"
     },
     "output_type": "display_data"
    }
   ],
   "source": [
    "Y = df.index\n",
    "X = df.columns\n",
    "X, Y = np.meshgrid(X, Y)\n",
    "Z = df.values\n",
    "fig = plt.figure(figsize=(10,6))\n",
    "ax = Axes3D(fig)\n",
    "surf = ax.plot_surface(X, Y, Z, rstride=1, cstride=1, cmap=cm.coolwarm,\n",
    "                       linewidth=0, antialiased=False)\n",
    "ax.set_zlim(-1.01, 1.01)\n",
    "\n",
    "ax.zaxis.set_major_locator(LinearLocator(10))\n",
    "ax.zaxis.set_major_formatter(FormatStrFormatter('%.02f'))\n",
    "\n",
    "fig.colorbar(surf, shrink=0.5, aspect=5)\n",
    "plt.title('State_value')\n",
    "plt.show()"
   ]
  }
 ],
 "metadata": {
  "kernelspec": {
   "display_name": "Python 3 (ipykernel)",
   "language": "python",
   "name": "python3"
  },
  "language_info": {
   "codemirror_mode": {
    "name": "ipython",
    "version": 3
   },
   "file_extension": ".py",
   "mimetype": "text/x-python",
   "name": "python",
   "nbconvert_exporter": "python",
   "pygments_lexer": "ipython3",
   "version": "3.8.5"
  }
 },
 "nbformat": 4,
 "nbformat_minor": 4
}
